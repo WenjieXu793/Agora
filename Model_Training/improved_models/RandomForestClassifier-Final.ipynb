{
 "cells": [
  {
   "cell_type": "code",
   "execution_count": 10,
   "metadata": {},
   "outputs": [],
   "source": [
    "import pandas as pd\n",
    "import sklearn\n",
    "from sklearn.model_selection import train_test_split\n",
    "from sklearn.ensemble import RandomForestClassifier\n",
    "from sklearn.metrics import balanced_accuracy_score\n",
    "from sklearn.metrics import classification_report\n",
    "from sklearn.metrics import confusion_matrix\n",
    "import pickle"
   ]
  },
  {
   "cell_type": "code",
   "execution_count": 11,
   "metadata": {},
   "outputs": [],
   "source": [
    "training_df = pd.read_csv('../final_dataset.csv', index_col=0)\n",
    "training_df = training_df.dropna()\n",
    "ground_truth = training_df['Buy']\n",
    "training_df = training_df.drop(['Symbol', 'beta', 'profitMargins','Name', 'Analyst', 'agora_pred'],\n",
    "                          axis=1)\n",
    "X = training_df[['headline_polarity', 'convo_polarity','forwardEps','bookValue', 'heldPercentInstitutions', \n",
    "        'shortRatio', 'shortPercentOfFloat']]\n",
    "y = training_df['Buy']"
   ]
  },
  {
   "cell_type": "code",
   "execution_count": 12,
   "metadata": {},
   "outputs": [
    {
     "name": "stdout",
     "output_type": "stream",
     "text": [
      "              precision    recall  f1-score   support\n",
      "\n",
      "           0       0.52      0.54      0.53        24\n",
      "           1       0.88      0.87      0.87        92\n",
      "\n",
      "    accuracy                           0.80       116\n",
      "   macro avg       0.70      0.71      0.70       116\n",
      "weighted avg       0.80      0.80      0.80       116\n",
      "\n",
      "[[13 11]\n",
      " [12 80]]\n",
      "\n",
      "\n",
      "              precision    recall  f1-score   support\n",
      "\n",
      "           0       0.60      0.47      0.53        19\n",
      "           1       0.90      0.94      0.92        97\n",
      "\n",
      "    accuracy                           0.86       116\n",
      "   macro avg       0.75      0.71      0.72       116\n",
      "weighted avg       0.85      0.86      0.86       116\n",
      "\n",
      "[[ 9 10]\n",
      " [ 6 91]]\n",
      "\n",
      "\n",
      "              precision    recall  f1-score   support\n",
      "\n",
      "           0       0.83      0.73      0.78        26\n",
      "           1       0.92      0.96      0.94        90\n",
      "\n",
      "    accuracy                           0.91       116\n",
      "   macro avg       0.88      0.84      0.86       116\n",
      "weighted avg       0.90      0.91      0.90       116\n",
      "\n",
      "[[19  7]\n",
      " [ 4 86]]\n",
      "\n",
      "\n",
      "              precision    recall  f1-score   support\n",
      "\n",
      "           0       0.82      0.53      0.64        17\n",
      "           1       0.92      0.98      0.95        99\n",
      "\n",
      "    accuracy                           0.91       116\n",
      "   macro avg       0.87      0.75      0.80       116\n",
      "weighted avg       0.91      0.91      0.91       116\n",
      "\n",
      "[[ 9  8]\n",
      " [ 2 97]]\n",
      "\n",
      "\n",
      "              precision    recall  f1-score   support\n",
      "\n",
      "           0       0.85      0.61      0.71        18\n",
      "           1       0.93      0.98      0.96        98\n",
      "\n",
      "    accuracy                           0.92       116\n",
      "   macro avg       0.89      0.80      0.83       116\n",
      "weighted avg       0.92      0.92      0.92       116\n",
      "\n",
      "[[11  7]\n",
      " [ 2 96]]\n",
      "\n",
      "\n",
      "              precision    recall  f1-score   support\n",
      "\n",
      "           0       0.67      0.44      0.53         9\n",
      "           1       0.95      0.98      0.97       107\n",
      "\n",
      "    accuracy                           0.94       116\n",
      "   macro avg       0.81      0.71      0.75       116\n",
      "weighted avg       0.93      0.94      0.93       116\n",
      "\n",
      "[[  4   5]\n",
      " [  2 105]]\n",
      "\n",
      "\n",
      "              precision    recall  f1-score   support\n",
      "\n",
      "           0       0.90      0.64      0.75        14\n",
      "           1       0.95      0.99      0.97       102\n",
      "\n",
      "    accuracy                           0.95       116\n",
      "   macro avg       0.93      0.82      0.86       116\n",
      "weighted avg       0.95      0.95      0.94       116\n",
      "\n",
      "[[  9   5]\n",
      " [  1 101]]\n",
      "\n",
      "\n",
      "0.9482758620689655\n",
      "0.9264150943396227\n"
     ]
    }
   ],
   "source": [
    "max_accuracy = -1\n",
    "highest_accuracy_model = None\n",
    "balanced_accuracy = -1\n",
    "best_predictions = None\n",
    "\n",
    "test_split_ll = 0.15\n",
    "test_split_ul = 0.50\n",
    "test_split = test_split_ll\n",
    "best_y_test = None\n",
    "\n",
    "while test_split <= test_split_ul:\n",
    "    for i in range(1, 201):\n",
    "        X_train, X_test, y_train, y_test = train_test_split(X, y, test_size=test_split)\n",
    "        model = RandomForestClassifier(n_estimators=i)\n",
    "        model.fit(X_train, y_train)\n",
    "        predictions = model.predict(X_test)\n",
    "\n",
    "        if sklearn.metrics.accuracy_score(predictions, y_test) > max_accuracy:\n",
    "            max_accuracy = sklearn.metrics.accuracy_score(predictions, y_test)\n",
    "            balanced_accuracy = max(balanced_accuracy, balanced_accuracy_score(predictions, y_test))\n",
    "            highest_accuracy_model = model\n",
    "            best_predictions = predictions\n",
    "            best_y_test = y_test\n",
    "            print(classification_report(y_test, predictions))\n",
    "            print(confusion_matrix(y_test, predictions))\n",
    "            print()\n",
    "            print()\n",
    "    \n",
    "    test_split += 0.1\n",
    "        \n",
    "print(max_accuracy)\n",
    "print(balanced_accuracy)"
   ]
  },
  {
   "cell_type": "code",
   "execution_count": 13,
   "metadata": {},
   "outputs": [],
   "source": [
    "pickle.dump(highest_accuracy_model, open('RF_pickled_final_df.pkl', 'wb'))"
   ]
  },
  {
   "cell_type": "code",
   "execution_count": 5,
   "metadata": {},
   "outputs": [],
   "source": []
  },
  {
   "cell_type": "code",
   "execution_count": 14,
   "metadata": {},
   "outputs": [
    {
     "name": "stdout",
     "output_type": "stream",
     "text": [
      "              precision    recall  f1-score   support\n",
      "\n",
      "           0       0.90      0.64      0.75        14\n",
      "           1       0.95      0.99      0.97       102\n",
      "\n",
      "    accuracy                           0.95       116\n",
      "   macro avg       0.93      0.82      0.86       116\n",
      "weighted avg       0.95      0.95      0.94       116\n",
      "\n"
     ]
    }
   ],
   "source": [
    "print(classification_report(best_y_test, best_predictions))"
   ]
  },
  {
   "cell_type": "code",
   "execution_count": 23,
   "metadata": {},
   "outputs": [
    {
     "name": "stdout",
     "output_type": "stream",
     "text": [
      "              precision    recall  f1-score   support\n",
      "\n",
      "           0       0.67      0.60      0.64        48\n",
      "           1       0.89      0.92      0.90       170\n",
      "\n",
      "    accuracy                           0.85       218\n",
      "   macro avg       0.78      0.76      0.77       218\n",
      "weighted avg       0.84      0.85      0.85       218\n",
      "\n"
     ]
    }
   ],
   "source": [
    "# X_train, X_test, y_train, y_test = train_test_split(X, y, test_size=0.25)\n",
    "# model = RandomForestClassifier(n_estimators=6)\n",
    "# model.fit(X_train, y_train)\n",
    "# predictions = model.predict(X_test)\n",
    "# print(classification_report(y_test, predictions))"
   ]
  },
  {
   "cell_type": "code",
   "execution_count": null,
   "metadata": {},
   "outputs": [],
   "source": [
    "from xgboost import XGBClassifier\n",
    "\n",
    "max_accuracy = -1\n",
    "highest_accuracy_model = None\n",
    "balanced_accuracy = -1\n",
    "best_predictions = None\n",
    "\n",
    "test_split_ll = 0.15\n",
    "test_split_ul = 0.50\n",
    "test_split = test_split_ll\n",
    "best_y_test = None\n",
    "\n",
    "while test_split <= test_split_ul:\n",
    "    for i in range(1, 201):\n",
    "        X_train, X_test, y_train, y_test = train_test_split(X, y, test_size=test_split)\n",
    "        #model = RandomForestClassifier(n_estimators=i)\n",
    "        model = XGBClassifier(n_estimators=i)\n",
    "        model.fit(X_train, y_train)\n",
    "        predictions = model.predict(X_test)\n",
    "\n",
    "        if sklearn.metrics.accuracy_score(predictions, y_test) > max_accuracy:\n",
    "            max_accuracy = sklearn.metrics.accuracy_score(predictions, y_test)\n",
    "            balanced_accuracy = max(balanced_accuracy, balanced_accuracy_score(predictions, y_test))\n",
    "            highest_accuracy_model = model\n",
    "            best_predictions = predictions\n",
    "            best_y_test = y_test\n",
    "            print(classification_report(y_test, predictions))\n",
    "            print(confusion_matrix(y_test, predictions))\n",
    "            print()\n",
    "            print()\n",
    "    \n",
    "    test_split += 0.1\n",
    "        \n",
    "print(max_accuracy)\n",
    "print(balanced_accuracy)"
   ]
  },
  {
   "cell_type": "code",
   "execution_count": null,
   "metadata": {},
   "outputs": [],
   "source": []
  }
 ],
 "metadata": {
  "kernelspec": {
   "display_name": "Python 3",
   "language": "python",
   "name": "python3"
  },
  "language_info": {
   "codemirror_mode": {
    "name": "ipython",
    "version": 3
   },
   "file_extension": ".py",
   "mimetype": "text/x-python",
   "name": "python",
   "nbconvert_exporter": "python",
   "pygments_lexer": "ipython3",
   "version": "3.12.6"
  }
 },
 "nbformat": 4,
 "nbformat_minor": 4
}
